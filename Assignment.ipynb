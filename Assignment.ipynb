{
  "nbformat": 4,
  "nbformat_minor": 0,
  "metadata": {
    "colab": {
      "name": "Assignment.ipynb",
      "provenance": [],
      "collapsed_sections": [],
      "authorship_tag": "ABX9TyPTVqNaHpWYHVcc+sG7CBsJ",
      "include_colab_link": true
    },
    "kernelspec": {
      "name": "python3",
      "display_name": "Python 3"
    }
  },
  "cells": [
    {
      "cell_type": "markdown",
      "metadata": {
        "id": "view-in-github",
        "colab_type": "text"
      },
      "source": [
        "<a href=\"https://colab.research.google.com/github/Anannya233/basic-study/blob/master/Assignment.ipynb\" target=\"_parent\"><img src=\"https://colab.research.google.com/assets/colab-badge.svg\" alt=\"Open In Colab\"/></a>"
      ]
    },
    {
      "cell_type": "code",
      "metadata": {
        "colab": {
          "base_uri": "https://localhost:8080/",
          "height": 262
        },
        "id": "tlx4z6DQPKjq",
        "outputId": "6e868b99-b061-41ff-86a9-3a123bf599a8"
      },
      "source": [
        "#Convert 1D array to 2D array\r\n",
        "import numpy as np\r\n",
        "array = np.array([0, 1, 2, 3, 4, 5, 6, 7, 8, 9])\r\n",
        "print(array)\r\n",
        "print()\r\n",
        "two_D_array = arr.reshape(2,5)\r\n",
        "print(\"The 2D array is: \")\r\n",
        "print(two_D_array)"
      ],
      "execution_count": 7,
      "outputs": [
        {
          "output_type": "stream",
          "text": [
            "[0 1 2 3 4 5 6 7 8 9]\n",
            "\n"
          ],
          "name": "stdout"
        },
        {
          "output_type": "error",
          "ename": "NameError",
          "evalue": "ignored",
          "traceback": [
            "\u001b[0;31m---------------------------------------------------------------------------\u001b[0m",
            "\u001b[0;31mNameError\u001b[0m                                 Traceback (most recent call last)",
            "\u001b[0;32m<ipython-input-7-cfff9f751cd4>\u001b[0m in \u001b[0;36m<module>\u001b[0;34m()\u001b[0m\n\u001b[1;32m      4\u001b[0m \u001b[0mprint\u001b[0m\u001b[0;34m(\u001b[0m\u001b[0marray\u001b[0m\u001b[0;34m)\u001b[0m\u001b[0;34m\u001b[0m\u001b[0;34m\u001b[0m\u001b[0m\n\u001b[1;32m      5\u001b[0m \u001b[0mprint\u001b[0m\u001b[0;34m(\u001b[0m\u001b[0;34m)\u001b[0m\u001b[0;34m\u001b[0m\u001b[0;34m\u001b[0m\u001b[0m\n\u001b[0;32m----> 6\u001b[0;31m \u001b[0mtwo_D_array\u001b[0m \u001b[0;34m=\u001b[0m \u001b[0marr\u001b[0m\u001b[0;34m.\u001b[0m\u001b[0mreshape\u001b[0m\u001b[0;34m(\u001b[0m\u001b[0;36m2\u001b[0m\u001b[0;34m,\u001b[0m\u001b[0;36m5\u001b[0m\u001b[0;34m)\u001b[0m\u001b[0;34m\u001b[0m\u001b[0;34m\u001b[0m\u001b[0m\n\u001b[0m\u001b[1;32m      7\u001b[0m \u001b[0mprint\u001b[0m\u001b[0;34m(\u001b[0m\u001b[0;34m\"The 2D array is: \"\u001b[0m\u001b[0;34m)\u001b[0m\u001b[0;34m\u001b[0m\u001b[0;34m\u001b[0m\u001b[0m\n\u001b[1;32m      8\u001b[0m \u001b[0mprint\u001b[0m\u001b[0;34m(\u001b[0m\u001b[0mtwo_D_array\u001b[0m\u001b[0;34m)\u001b[0m\u001b[0;34m\u001b[0m\u001b[0;34m\u001b[0m\u001b[0m\n",
            "\u001b[0;31mNameError\u001b[0m: name 'arr' is not defined"
          ]
        }
      ]
    },
    {
      "cell_type": "code",
      "metadata": {
        "colab": {
          "base_uri": "https://localhost:8080/"
        },
        "id": "_gRRW6AvPr04",
        "outputId": "4db3f5b2-8b7e-4878-8c68-4c8f5e1a993b"
      },
      "source": [
        "# Python program for implementation of Quicksort Sort\r\n",
        "def partition(arr, low, high):\r\n",
        "    i = (low-1)         # index of smaller element\r\n",
        "    pivot = arr[high]     # pivot\r\n",
        " \r\n",
        "    for j in range(low, high):\r\n",
        " \r\n",
        "        # If current element is smaller than or\r\n",
        "        # equal to pivot\r\n",
        "        if arr[j] <= pivot:\r\n",
        " \r\n",
        "            # increment index of smaller element\r\n",
        "            i = i+1\r\n",
        "            arr[i], arr[j] = arr[j], arr[i]\r\n",
        " \r\n",
        "    arr[i+1], arr[high] = arr[high], arr[i+1]\r\n",
        "    return (i+1)\r\n",
        " \r\n",
        "def quickSort(arr, low, high):\r\n",
        "    if len(arr) == 1:\r\n",
        "        return arr\r\n",
        "    if low < high:\r\n",
        " \r\n",
        "        # pi is partitioning index, arr[p] is now\r\n",
        "        # at right place\r\n",
        "        pi = partition(arr, low, high)\r\n",
        " \r\n",
        "        # Separately sort elements before\r\n",
        "        # partition and after partition\r\n",
        "        quickSort(arr, low, pi-1)\r\n",
        "        quickSort(arr, pi+1, high)\r\n",
        " \r\n",
        " \r\n",
        "# Driver code to test above\r\n",
        "arr = [3, 6, 8, 10, 1, 2, 1]\r\n",
        "n = len(arr)\r\n",
        "quickSort(arr, 0, n-1)\r\n",
        "print(\"Sorted array is:\")\r\n",
        "for i in range(n):\r\n",
        "    print(\"%d\" % arr[i])\r\n",
        "\r\n",
        "  "
      ],
      "execution_count": null,
      "outputs": [
        {
          "output_type": "stream",
          "text": [
            "Sorted array is:\n",
            "1\n",
            "1\n",
            "2\n",
            "3\n",
            "6\n",
            "8\n",
            "10\n"
          ],
          "name": "stdout"
        }
      ]
    },
    {
      "cell_type": "code",
      "metadata": {
        "id": "cQzEghVyC0le"
      },
      "source": [
        ""
      ],
      "execution_count": null,
      "outputs": []
    }
  ]
}